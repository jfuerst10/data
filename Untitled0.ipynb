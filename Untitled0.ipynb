{
  "nbformat": 4,
  "nbformat_minor": 0,
  "metadata": {
    "colab": {
      "private_outputs": true,
      "provenance": [],
      "toc_visible": true,
      "history_visible": true,
      "authorship_tag": "ABX9TyOEn6opdifl7OFlR/5EJQsq",
      "include_colab_link": true
    },
    "kernelspec": {
      "name": "python3",
      "display_name": "Python 3"
    },
    "language_info": {
      "name": "python"
    },
    "accelerator": "GPU",
    "gpuClass": "standard"
  },
  "cells": [
    {
      "cell_type": "markdown",
      "metadata": {
        "id": "view-in-github",
        "colab_type": "text"
      },
      "source": [
        "<a href=\"https://colab.research.google.com/github/EarlyAutismServicesLLC/data/blob/main/Untitled0.ipynb\" target=\"_parent\"><img src=\"https://colab.research.google.com/assets/colab-badge.svg\" alt=\"Open In Colab\"/></a>"
      ]
    },
    {
      "cell_type": "code",
      "execution_count": null,
      "metadata": {
        "id": "T0vJgUEy02WD"
      },
      "outputs": [],
      "source": [
        "#@title Default title text\n"
      ]
    },
    {
      "cell_type": "markdown",
      "source": [
        "\n",
        "https://lookerstudio.google.com/u/0/reporting/b5c61e9e-cb12-46bf-8c69-802ca0175e26/page/GI8MD/edit\n",
        "```\n",
        "`[# This is formatted as code](https://)`\n",
        "```\n",
        "\n"
      ],
      "metadata": {
        "id": "g9lhTCwM4MuR"
      }
    }
  ]
}